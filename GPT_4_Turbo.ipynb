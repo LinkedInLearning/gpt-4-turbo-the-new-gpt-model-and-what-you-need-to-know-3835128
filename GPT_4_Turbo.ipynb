{
  "nbformat": 4,
  "nbformat_minor": 0,
  "metadata": {
    "colab": {
      "provenance": [],
      "collapsed_sections": [
        "SOGf-2jk6ahK",
        "dghnSeUpGgqM",
        "X__iG50hmEls"
      ]
    },
    "kernelspec": {
      "name": "python3",
      "display_name": "Python 3"
    },
    "language_info": {
      "name": "python"
    }
  },
  "cells": [
    {
      "cell_type": "markdown",
      "source": [
        "# GPT-4-Turbo: The New GPT-4 and What You Need to Know"
      ],
      "metadata": {
        "id": "W1uemVKOW3Uv"
      }
    },
    {
      "cell_type": "code",
      "source": [
        "OPENAI_API_KEY = \"\"\n",
        "EXCHANGE_API = \"\""
      ],
      "metadata": {
        "id": "MbqZUp39ONco"
      },
      "execution_count": null,
      "outputs": []
    },
    {
      "cell_type": "code",
      "execution_count": null,
      "metadata": {
        "colab": {
          "base_uri": "https://localhost:8080/"
        },
        "id": "QHm557eVMuNr",
        "outputId": "cf47b406-377c-4d46-dc09-4513fd0fbaaa"
      },
      "outputs": [
        {
          "output_type": "stream",
          "name": "stdout",
          "text": [
            "Collecting openai==1.6.1\n",
            "  Downloading openai-1.6.1-py3-none-any.whl (225 kB)\n",
            "\u001b[2K     \u001b[90m━━━━━━━━━━━━━━━━━━━━━━━━━━━━━━━━━━━━━━━━\u001b[0m \u001b[32m225.4/225.4 kB\u001b[0m \u001b[31m2.4 MB/s\u001b[0m eta \u001b[36m0:00:00\u001b[0m\n",
            "\u001b[?25hRequirement already satisfied: anyio<5,>=3.5.0 in /usr/local/lib/python3.10/dist-packages (from openai==1.6.1) (3.7.1)\n",
            "Requirement already satisfied: distro<2,>=1.7.0 in /usr/lib/python3/dist-packages (from openai==1.6.1) (1.7.0)\n",
            "Collecting httpx<1,>=0.23.0 (from openai==1.6.1)\n",
            "  Downloading httpx-0.26.0-py3-none-any.whl (75 kB)\n",
            "\u001b[2K     \u001b[90m━━━━━━━━━━━━━━━━━━━━━━━━━━━━━━━━━━━━━━━━\u001b[0m \u001b[32m75.9/75.9 kB\u001b[0m \u001b[31m8.1 MB/s\u001b[0m eta \u001b[36m0:00:00\u001b[0m\n",
            "\u001b[?25hRequirement already satisfied: pydantic<3,>=1.9.0 in /usr/local/lib/python3.10/dist-packages (from openai==1.6.1) (1.10.13)\n",
            "Requirement already satisfied: sniffio in /usr/local/lib/python3.10/dist-packages (from openai==1.6.1) (1.3.0)\n",
            "Requirement already satisfied: tqdm>4 in /usr/local/lib/python3.10/dist-packages (from openai==1.6.1) (4.66.1)\n",
            "Collecting typing-extensions<5,>=4.7 (from openai==1.6.1)\n",
            "  Downloading typing_extensions-4.9.0-py3-none-any.whl (32 kB)\n",
            "Requirement already satisfied: idna>=2.8 in /usr/local/lib/python3.10/dist-packages (from anyio<5,>=3.5.0->openai==1.6.1) (3.6)\n",
            "Requirement already satisfied: exceptiongroup in /usr/local/lib/python3.10/dist-packages (from anyio<5,>=3.5.0->openai==1.6.1) (1.2.0)\n",
            "Requirement already satisfied: certifi in /usr/local/lib/python3.10/dist-packages (from httpx<1,>=0.23.0->openai==1.6.1) (2023.11.17)\n",
            "Collecting httpcore==1.* (from httpx<1,>=0.23.0->openai==1.6.1)\n",
            "  Downloading httpcore-1.0.2-py3-none-any.whl (76 kB)\n",
            "\u001b[2K     \u001b[90m━━━━━━━━━━━━━━━━━━━━━━━━━━━━━━━━━━━━━━━━\u001b[0m \u001b[32m76.9/76.9 kB\u001b[0m \u001b[31m7.9 MB/s\u001b[0m eta \u001b[36m0:00:00\u001b[0m\n",
            "\u001b[?25hCollecting h11<0.15,>=0.13 (from httpcore==1.*->httpx<1,>=0.23.0->openai==1.6.1)\n",
            "  Downloading h11-0.14.0-py3-none-any.whl (58 kB)\n",
            "\u001b[2K     \u001b[90m━━━━━━━━━━━━━━━━━━━━━━━━━━━━━━━━━━━━━━━━\u001b[0m \u001b[32m58.3/58.3 kB\u001b[0m \u001b[31m5.2 MB/s\u001b[0m eta \u001b[36m0:00:00\u001b[0m\n",
            "\u001b[?25hInstalling collected packages: typing-extensions, h11, httpcore, httpx, openai\n",
            "  Attempting uninstall: typing-extensions\n",
            "    Found existing installation: typing_extensions 4.5.0\n",
            "    Uninstalling typing_extensions-4.5.0:\n",
            "      Successfully uninstalled typing_extensions-4.5.0\n",
            "\u001b[31mERROR: pip's dependency resolver does not currently take into account all the packages that are installed. This behaviour is the source of the following dependency conflicts.\n",
            "llmx 0.0.15a0 requires cohere, which is not installed.\n",
            "llmx 0.0.15a0 requires tiktoken, which is not installed.\n",
            "tensorflow-probability 0.22.0 requires typing-extensions<4.6.0, but you have typing-extensions 4.9.0 which is incompatible.\u001b[0m\u001b[31m\n",
            "\u001b[0mSuccessfully installed h11-0.14.0 httpcore-1.0.2 httpx-0.26.0 openai-1.6.1 typing-extensions-4.9.0\n"
          ]
        }
      ],
      "source": [
        "!pip install openai==1.6.1"
      ]
    },
    {
      "cell_type": "code",
      "source": [
        "import openai\n",
        "from openai import OpenAI\n",
        "import json"
      ],
      "metadata": {
        "id": "ZGErSAnkld82"
      },
      "execution_count": null,
      "outputs": []
    },
    {
      "cell_type": "code",
      "source": [
        "client = OpenAI(api_key=OPENAI_API_KEY)\n",
        "client"
      ],
      "metadata": {
        "colab": {
          "base_uri": "https://localhost:8080/"
        },
        "id": "WwyKfxQRl-3S",
        "outputId": "841f3671-f5a0-493e-80e0-e77cacf56ce6"
      },
      "execution_count": null,
      "outputs": [
        {
          "output_type": "execute_result",
          "data": {
            "text/plain": [
              "<openai.OpenAI at 0x7a70b99e7e80>"
            ]
          },
          "metadata": {},
          "execution_count": 6
        }
      ]
    },
    {
      "cell_type": "markdown",
      "source": [
        "## Code interpreter"
      ],
      "metadata": {
        "id": "SOGf-2jk6ahK"
      }
    },
    {
      "cell_type": "code",
      "source": [
        "!wget https://jonfernandes.github.io/files/paris_olympics_1924.csv"
      ],
      "metadata": {
        "id": "LIX4F3yi6bJP",
        "colab": {
          "base_uri": "https://localhost:8080/"
        },
        "outputId": "28d51bf0-55ce-41ad-bff3-33c3d82c842c"
      },
      "execution_count": null,
      "outputs": [
        {
          "output_type": "stream",
          "name": "stdout",
          "text": [
            "--2024-01-10 13:36:42--  https://jonfernandes.github.io/files/paris_olympics_1924.csv\n",
            "Resolving jonfernandes.github.io (jonfernandes.github.io)... 185.199.108.153, 185.199.109.153, 185.199.110.153, ...\n",
            "Connecting to jonfernandes.github.io (jonfernandes.github.io)|185.199.108.153|:443... connected.\n",
            "HTTP request sent, awaiting response... 404 Not Found\n",
            "2024-01-10 13:36:42 ERROR 404: Not Found.\n",
            "\n"
          ]
        }
      ]
    },
    {
      "cell_type": "code",
      "source": [
        "file = client.files.create(\n",
        "  file=open(\"paris_olympics_1924.csv\", \"rb\"),\n",
        "  purpose='assistants'\n",
        ")\n",
        "\n",
        "assistant = client.beta.assistants.create(\n",
        "  instructions=\"You are a helpful assistant. Use only the file that has been provided.\",\n",
        "  model=\"gpt-4-1106-preview\",\n",
        "  tools=[{\"type\": \"code_interpreter\"}],\n",
        "  file_ids=[file.id]\n",
        ")\n",
        "\n",
        "print(f\"Assistant ID: {assistant.id}\")"
      ],
      "metadata": {
        "id": "-QTB949s9QLJ",
        "colab": {
          "base_uri": "https://localhost:8080/",
          "height": 246
        },
        "outputId": "2498ad8a-857c-4343-bd0e-daf537e68e1a"
      },
      "execution_count": null,
      "outputs": [
        {
          "output_type": "error",
          "ename": "FileNotFoundError",
          "evalue": "[Errno 2] No such file or directory: 'paris.csv'",
          "traceback": [
            "\u001b[0;31m---------------------------------------------------------------------------\u001b[0m",
            "\u001b[0;31mFileNotFoundError\u001b[0m                         Traceback (most recent call last)",
            "\u001b[0;32m<ipython-input-9-fa1b179f8f3d>\u001b[0m in \u001b[0;36m<cell line: 1>\u001b[0;34m()\u001b[0m\n\u001b[1;32m      1\u001b[0m file = client.files.create(\n\u001b[0;32m----> 2\u001b[0;31m   \u001b[0mfile\u001b[0m\u001b[0;34m=\u001b[0m\u001b[0mopen\u001b[0m\u001b[0;34m(\u001b[0m\u001b[0;34m\"paris.csv\"\u001b[0m\u001b[0;34m,\u001b[0m \u001b[0;34m\"rb\"\u001b[0m\u001b[0;34m)\u001b[0m\u001b[0;34m,\u001b[0m\u001b[0;34m\u001b[0m\u001b[0;34m\u001b[0m\u001b[0m\n\u001b[0m\u001b[1;32m      3\u001b[0m   \u001b[0mpurpose\u001b[0m\u001b[0;34m=\u001b[0m\u001b[0;34m'assistants'\u001b[0m\u001b[0;34m\u001b[0m\u001b[0;34m\u001b[0m\u001b[0m\n\u001b[1;32m      4\u001b[0m )\n\u001b[1;32m      5\u001b[0m \u001b[0;34m\u001b[0m\u001b[0m\n",
            "\u001b[0;31mFileNotFoundError\u001b[0m: [Errno 2] No such file or directory: 'paris.csv'"
          ]
        }
      ]
    },
    {
      "cell_type": "code",
      "source": [
        "thread = client.beta.threads.create()\n",
        "\n",
        "client.beta.threads.messages.create(\n",
        "    thread_id=thread.id,\n",
        "    role=\"user\",\n",
        "    content=\"What events did eric liddell win a medal in?\"\n",
        ")\n",
        "\n",
        "thread.id"
      ],
      "metadata": {
        "id": "TP-eIZOJ_Ka-"
      },
      "execution_count": null,
      "outputs": []
    },
    {
      "cell_type": "code",
      "source": [
        "run = client.beta.threads.runs.create(\n",
        "    thread_id=thread.id,\n",
        "    assistant_id=assistant.id,\n",
        ")\n",
        "\n",
        "run.id"
      ],
      "metadata": {
        "id": "DnegXATF_qVK"
      },
      "execution_count": null,
      "outputs": []
    },
    {
      "cell_type": "code",
      "source": [
        "import time\n",
        "\n",
        "def complete_run(thread_id, run_id):\n",
        "    \"\"\"Run the assistant on the Thread to get responses\"\"\"\n",
        "    while True:\n",
        "        time.sleep(1)\n",
        "        run = client.beta.threads.runs.retrieve(thread_id=thread_id, run_id=run_id)\n",
        "        print(f\"Current run status: {run.status}\")\n",
        "        if run.status in ['completed', 'failed', 'requires_action']:\n",
        "            return run\n",
        "\n",
        "complete_run(thread.id, run.id)"
      ],
      "metadata": {
        "id": "S7SWASh__teI"
      },
      "execution_count": null,
      "outputs": []
    },
    {
      "cell_type": "code",
      "source": [
        "def print_messages_from_thread(thread_id):\n",
        "    \"\"\"Print messages for thread with thread_id as parameter\"\"\"\n",
        "    messages = client.beta.threads.messages.list(thread_id=thread_id)\n",
        "    for message in messages:\n",
        "        print(f\"{message.role}: {message.content[0].text.value}\")\n",
        "\n",
        "print_messages_from_thread(thread.id)"
      ],
      "metadata": {
        "id": "2KVNvLRvAPgK"
      },
      "execution_count": null,
      "outputs": []
    },
    {
      "cell_type": "markdown",
      "source": [
        "## Retrieval"
      ],
      "metadata": {
        "id": "dghnSeUpGgqM"
      }
    },
    {
      "cell_type": "code",
      "source": [
        "!wget https://jonfernandes.github.io/files/digital-piano.pdf"
      ],
      "metadata": {
        "id": "iPd9ri8sGgqN"
      },
      "execution_count": null,
      "outputs": []
    },
    {
      "cell_type": "code",
      "source": [
        "file = client.files.create(\n",
        "  file=open(\"digital-piano.pdf\", \"rb\"),\n",
        "  purpose='assistants'\n",
        ")\n",
        "\n",
        "assistant = client.beta.assistants.create(\n",
        "  instructions=\"You are a helpful assistant. Use only the uploaded document to answer questions.\",\n",
        "  model=\"gpt-4-1106-preview\",\n",
        "  tools=[{\"type\": \"retrieval\"}],\n",
        "  file_ids=[file.id]\n",
        ")\n",
        "\n",
        "assistant.id"
      ],
      "metadata": {
        "id": "TockYTYdGgqN"
      },
      "execution_count": null,
      "outputs": []
    },
    {
      "cell_type": "code",
      "source": [
        "thread = client.beta.threads.create()\n",
        "\n",
        "client.beta.threads.messages.create(\n",
        "    thread_id=thread.id,\n",
        "    role=\"user\",\n",
        "    content=\"how do i get the digital piano to play a demo piece?\"\n",
        ")\n",
        "\n",
        "thread.id"
      ],
      "metadata": {
        "id": "DQM9fXh4GgqN"
      },
      "execution_count": null,
      "outputs": []
    },
    {
      "cell_type": "code",
      "source": [
        "run = client.beta.threads.runs.create(\n",
        "    thread_id=thread.id,\n",
        "    assistant_id=assistant.id,\n",
        ")\n",
        "\n",
        "run.id"
      ],
      "metadata": {
        "id": "1Tgze8vlGgqN"
      },
      "execution_count": null,
      "outputs": []
    },
    {
      "cell_type": "code",
      "source": [
        "import time\n",
        "\n",
        "def complete_run(thread_id, run_id):\n",
        "    while True:\n",
        "        time.sleep(1)\n",
        "        run = client.beta.threads.runs.retrieve(thread_id=thread_id, run_id=run_id)\n",
        "        print(f\"Current run status: {run.status}\")\n",
        "        if run.status in ['completed', 'failed', 'requires_action']:\n",
        "            return run\n",
        "\n",
        "complete_run(thread.id, run.id)"
      ],
      "metadata": {
        "id": "ijGnya79GgqN"
      },
      "execution_count": null,
      "outputs": []
    },
    {
      "cell_type": "code",
      "source": [
        "def print_messages_from_thread(thread_id):\n",
        "    \"\"\"Print messages for thread with id: thread_id\"\"\"\n",
        "    messages = client.beta.threads.messages.list(thread_id=thread_id)\n",
        "    for message in messages:\n",
        "        print(f\"{message.role}: {message.content[0].text.value}\")\n",
        "\n",
        "print_messages_from_thread(thread.id)"
      ],
      "metadata": {
        "id": "KsAY2c9NGgqO"
      },
      "execution_count": null,
      "outputs": []
    },
    {
      "cell_type": "markdown",
      "source": [
        "## Function calling"
      ],
      "metadata": {
        "id": "_uxMN3kAPvaW"
      }
    },
    {
      "cell_type": "code",
      "source": [
        "prompt = \"Convert 50 USD to british pounds\"\n",
        "\n",
        "client.chat.completions.create(\n",
        "    model=\"gpt-4-1106-preview\",\n",
        "    temperature=0.0,\n",
        "    messages=[{\"role\": \"user\", \"content\": prompt}]\n",
        ")"
      ],
      "metadata": {
        "id": "NwR9QhcXQGTV"
      },
      "execution_count": null,
      "outputs": []
    },
    {
      "cell_type": "code",
      "source": [
        "def get_details():\n",
        "    \"\"\"Do nothing\"\"\"\n",
        "    pass\n",
        "\n",
        "tools = [\n",
        "    {\n",
        "        \"type\": \"function\",\n",
        "        \"function\": {\n",
        "            \"name\" : \"get_details\",\n",
        "            \"description\" : \"Convert a given amount of money from one currency to another. Each currency will have a three letter code\",\n",
        "            \"parameters\": {\n",
        "                \"type\": \"object\",\n",
        "                \"properties\": {\n",
        "                  \"base\": {\n",
        "                      \"type\": \"string\",\n",
        "                      \"description\": \"The base or original currency\"\n",
        "                  },\n",
        "                \"target\": {\n",
        "                    \"type\": \"string\",\n",
        "                    \"description\": \"The target or converted currency\"\n",
        "                },\n",
        "                \"amount\": {\n",
        "                    \"type\": \"string\",\n",
        "                    \"description\": \"The amount of money when converting from one currency to another\"\n",
        "                }\n",
        "                }\n",
        "            },\n",
        "            \"required\": [\"base\", \"target\", \"amount\"]\n",
        "        }\n",
        "    }\n",
        "]\n",
        "\n",
        "client.chat.completions.create(\n",
        "      model=\"gpt-4-1106-preview\",\n",
        "      temperature=0.0,\n",
        "      messages=[{\"role\": \"user\", \"content\": \"Convert 50 USD to british pounds\"}],\n",
        "      tools=tools,\n",
        "      tool_choice=\"auto\"\n",
        ")"
      ],
      "metadata": {
        "id": "_Z_ES0rZlpFG"
      },
      "execution_count": null,
      "outputs": []
    },
    {
      "cell_type": "code",
      "source": [
        "def get_chat_completion(prompt, model=\"gpt-4-1106-preview\", tools=None, tool_choice=\"auto\"):\n",
        "    \"\"\"Response from model for a given prompt\"\"\"\n",
        "    try:\n",
        "        completion = client.chat.completions.create(\n",
        "            model=model,\n",
        "            temperature=0.0,\n",
        "            messages=[{\"role\": \"user\", \"content\": prompt}],\n",
        "            tools=tools,\n",
        "            tool_choice=tool_choice\n",
        "        )\n",
        "    except Exception as e:\n",
        "        print(e, model, prompt)\n",
        "    else:\n",
        "        return completion\n",
        "\n",
        "response = get_chat_completion(\"Convert 50 USD to british pounds\", tools=tools)\n",
        "response"
      ],
      "metadata": {
        "id": "afu57wqSHiKH"
      },
      "execution_count": null,
      "outputs": []
    },
    {
      "cell_type": "code",
      "source": [
        "response.choices"
      ],
      "metadata": {
        "id": "AMegOE7P16jI"
      },
      "execution_count": null,
      "outputs": []
    },
    {
      "cell_type": "code",
      "source": [
        "response_arguments = json.loads(response.choices[0].message.tool_calls[0].function.arguments)\n",
        "response_arguments"
      ],
      "metadata": {
        "id": "pU1pATf6NgFp"
      },
      "execution_count": null,
      "outputs": []
    },
    {
      "cell_type": "code",
      "source": [
        "response = get_chat_completion(\"What's 500 british pounds in Indian currency\", tools=tools)\n",
        "\n",
        "response_arguments = json.loads(response.choices[0].message.tool_calls[0].function.arguments)\n",
        "response_arguments"
      ],
      "metadata": {
        "id": "vvi0SOfgu2uy"
      },
      "execution_count": null,
      "outputs": []
    },
    {
      "cell_type": "code",
      "source": [
        "import requests\n",
        "\n",
        "BASE, TARGET, AMOUNT = response_arguments[\"base\"], response_arguments[\"target\"], response_arguments[\"amount\"]\n",
        "\n",
        "url = f\"https://v6.exchangerate-api.com/v6/{EXCHANGE_API}/pair/{BASE}/{TARGET}/{AMOUNT}\"\n",
        "exchange_response = json.loads(requests.get(url).text)\n",
        "exchange_response"
      ],
      "metadata": {
        "id": "aTKBhjvnybd3"
      },
      "execution_count": null,
      "outputs": []
    },
    {
      "cell_type": "code",
      "source": [
        "print(f\"{BASE} {AMOUNT} is {TARGET} {exchange_response['conversion_result']}\")"
      ],
      "metadata": {
        "id": "plHcf9ijPEwm"
      },
      "execution_count": null,
      "outputs": []
    },
    {
      "cell_type": "code",
      "source": [
        "response = get_chat_completion(\"I woke up a little earlier today\", tools=tools)\n",
        "response"
      ],
      "metadata": {
        "id": "UiF7T3ublr0i"
      },
      "execution_count": null,
      "outputs": []
    },
    {
      "cell_type": "code",
      "source": [
        "response.choices[0].message.content"
      ],
      "metadata": {
        "id": "9NWTS1pPoVZU"
      },
      "execution_count": null,
      "outputs": []
    },
    {
      "cell_type": "code",
      "source": [
        "import requests\n",
        "import json\n",
        "\n",
        "def get_chat_completion(prompt, model=\"gpt-4-1106-preview\", tools=None, tool_choice=\"auto\"):\n",
        "    \"\"\"Response from model for a given prompt\"\"\"\n",
        "    try:\n",
        "        completion = client.chat.completions.create(\n",
        "            model=model,\n",
        "            temperature=0.0,\n",
        "            messages=[{\"role\": \"user\", \"content\": prompt}],\n",
        "            tools=tools,\n",
        "            tool_choice=tool_choice\n",
        "        )\n",
        "    except Exception as e:\n",
        "        print(e, model, prompt)\n",
        "    else:\n",
        "        return completion\n",
        "\n",
        "def get_details():\n",
        "    \"\"\"Do nothing\"\"\"\n",
        "    pass\n",
        "\n",
        "tools = [\n",
        "    {\n",
        "        \"type\": \"function\",\n",
        "        \"function\": {\n",
        "            \"name\" : \"get_details\",\n",
        "            \"description\" : \"Convert a given amount of money from one currency to another. Each currency will have a three letter code\",\n",
        "            \"parameters\": {\n",
        "                \"type\": \"object\",\n",
        "                \"properties\": {\n",
        "                  \"base\": {\n",
        "                      \"type\": \"string\",\n",
        "                      \"description\": \"The base or original currency\"\n",
        "                  },\n",
        "                \"target\": {\n",
        "                    \"type\": \"string\",\n",
        "                    \"description\": \"The target or converted currency\"\n",
        "                },\n",
        "                \"amount\": {\n",
        "                    \"type\": \"string\",\n",
        "                    \"description\": \"The amount of money when converting from one currency to another\"\n",
        "                }\n",
        "                }\n",
        "            },\n",
        "            \"required\": [\"base\", \"target\", \"amount\"],\n",
        "        }\n",
        "    }\n",
        "]\n",
        "\n",
        "\n",
        "def next_steps(prompt):\n",
        "    \"\"\"Determine what needs to be done based on response from the Large Language Model\"\"\"\n",
        "    response = get_chat_completion(prompt, tools=tools)\n",
        "\n",
        "    if response.choices[0].finish_reason == \"stop\":\n",
        "        return f\"\"\"Not a currency related question (Did not use tools): {response.choices[0].message.content}\"\"\"\n",
        "    elif response.choices[0].finish_reason == \"tool_calls\":\n",
        "        response_arguments = json.loads(response.choices[0].message.tool_calls[0].function.arguments)\n",
        "        BASE, TARGET, AMOUNT = response_arguments[\"base\"], response_arguments[\"target\"], response_arguments[\"amount\"]\n",
        "        url = f\"https://v6.exchangerate-api.com/v6/{EXCHANGE_API}/pair/{BASE}/{TARGET}/{AMOUNT}\"\n",
        "        exchange_response = json.loads(requests.get(url).text)\n",
        "        return f\"{BASE} {AMOUNT} is {TARGET} {exchange_response['conversion_result']}\"\n",
        "    else:\n",
        "        return NotImplemented\n",
        "\n",
        "print(next_steps(\"What's 500 british pounds in whatever they use in Tokyo\"))"
      ],
      "metadata": {
        "id": "7Ts0_hFnDRIi"
      },
      "execution_count": null,
      "outputs": []
    },
    {
      "cell_type": "code",
      "source": [
        "print(next_steps(\"It's sunny today\"))"
      ],
      "metadata": {
        "id": "JcUQl8p5QNba"
      },
      "execution_count": null,
      "outputs": []
    },
    {
      "cell_type": "markdown",
      "source": [
        "## GPT-4-turbo Vision"
      ],
      "metadata": {
        "id": "X__iG50hmEls"
      }
    },
    {
      "cell_type": "code",
      "source": [
        "!wget https://github.com/jonfernandes/images/blob/main/JF-bw.png"
      ],
      "metadata": {
        "id": "qPQ2TsJDOCu7"
      },
      "execution_count": null,
      "outputs": []
    },
    {
      "cell_type": "code",
      "source": [
        "!ls -la"
      ],
      "metadata": {
        "id": "6yYuDeShPQoe"
      },
      "execution_count": null,
      "outputs": []
    },
    {
      "cell_type": "code",
      "source": [
        "response = client.chat.completions.create(\n",
        "  model=\"gpt-4-vision-preview\",\n",
        "  messages=[\n",
        "    {\n",
        "      \"role\": \"user\",\n",
        "      \"content\": [\n",
        "        {\"type\": \"text\", \"text\": \"What’s in this image?\"},\n",
        "        {\n",
        "          \"type\": \"image_url\",\n",
        "          \"image_url\": {\n",
        "            \"url\": \"https://jonfernandes.github.io/images/JF-bw.png\",\n",
        "          },\n",
        "        },\n",
        "      ],\n",
        "    }\n",
        "  ],\n",
        "  max_tokens=300,\n",
        ")\n",
        "\n",
        "response"
      ],
      "metadata": {
        "id": "nb5I5gEVM4Tn"
      },
      "execution_count": null,
      "outputs": []
    },
    {
      "cell_type": "code",
      "source": [
        "response.choices[0].message.content"
      ],
      "metadata": {
        "id": "2omaz0AkN8ts"
      },
      "execution_count": null,
      "outputs": []
    },
    {
      "cell_type": "markdown",
      "source": [
        "**Multiple images**"
      ],
      "metadata": {
        "id": "EJszjiE-fQCl"
      }
    },
    {
      "cell_type": "code",
      "source": [
        "response = client.chat.completions.create(\n",
        "  model=\"gpt-4-vision-preview\",\n",
        "  messages=[\n",
        "    {\n",
        "      \"role\": \"user\",\n",
        "      \"content\": [\n",
        "        {\n",
        "          \"type\": \"text\",\n",
        "          \"text\": \"What are in these images? Is there any difference between them?\",\n",
        "        },\n",
        "        {\n",
        "          \"type\": \"image_url\",\n",
        "          \"image_url\": {\n",
        "            \"url\": \"https://jonfernandes.github.io/images/JF-bw.png\",\n",
        "          },\n",
        "        },\n",
        "        {\n",
        "          \"type\": \"image_url\",\n",
        "          \"image_url\": {\n",
        "            \"url\": \"https://jonfernandes.github.io/images/JF-color.jpg\",\n",
        "          },\n",
        "        },\n",
        "      ],\n",
        "    }\n",
        "  ],\n",
        "  max_tokens=300,\n",
        ")\n",
        "\n",
        "print(response.choices[0].message.content)"
      ],
      "metadata": {
        "id": "RJ5vyTJoY6aj"
      },
      "execution_count": null,
      "outputs": []
    },
    {
      "cell_type": "markdown",
      "source": [
        "## Context length"
      ],
      "metadata": {
        "id": "a_d4wR_Vj2Rc"
      }
    },
    {
      "cell_type": "code",
      "source": [
        "tom_sawyer_text = \"\"\"\n",
        "\n",
        "\"\"\""
      ],
      "metadata": {
        "id": "BluxqChWkHNC"
      },
      "execution_count": null,
      "outputs": []
    },
    {
      "cell_type": "code",
      "source": [
        "tom_sawyer_text.split()"
      ],
      "metadata": {
        "id": "oGmJrAfCkJTa"
      },
      "execution_count": null,
      "outputs": []
    },
    {
      "cell_type": "code",
      "source": [
        "num_tokens = 4 * len(tom_sawyer_text.split()) / 3"
      ],
      "metadata": {
        "id": "Go3zB1QrkwJC"
      },
      "execution_count": null,
      "outputs": []
    }
  ]
}